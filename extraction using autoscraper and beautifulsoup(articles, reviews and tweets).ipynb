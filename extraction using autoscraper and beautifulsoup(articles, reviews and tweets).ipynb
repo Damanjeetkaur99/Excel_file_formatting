{
 "cells": [
  {
   "cell_type": "code",
   "execution_count": 1,
   "id": "50c81950",
   "metadata": {},
   "outputs": [],
   "source": [
    "from autoscraper import AutoScraper\n",
    "import pandas as pd \n",
    "import numpy as np"
   ]
  },
  {
   "cell_type": "code",
   "execution_count": 2,
   "id": "6a834df5",
   "metadata": {},
   "outputs": [],
   "source": [
    "url=\"https://www.fragrancex.com/shopping/best\""
   ]
  },
  {
   "cell_type": "code",
   "execution_count": 3,
   "id": "b53189bc",
   "metadata": {},
   "outputs": [],
   "source": [
    "wanted_list=[\"Light Blue\",\"₹ 2,848.05\"]"
   ]
  },
  {
   "cell_type": "code",
   "execution_count": 4,
   "id": "2e7715a2",
   "metadata": {},
   "outputs": [
    {
     "name": "stdout",
     "output_type": "stream",
     "text": [
      "[]\n"
     ]
    }
   ],
   "source": [
    "scraper=AutoScraper()\n",
    "result=scraper.build(url,wanted_list)\n",
    "print(result)"
   ]
  },
  {
   "cell_type": "markdown",
   "id": "30cb7c5e",
   "metadata": {},
   "source": [
    "## Using BeautifulSoup"
   ]
  },
  {
   "cell_type": "code",
   "execution_count": 4,
   "id": "0c4f5aa4",
   "metadata": {},
   "outputs": [],
   "source": [
    "from bs4 import BeautifulSoup as bs\n",
    "import requests"
   ]
  },
  {
   "cell_type": "code",
   "execution_count": 5,
   "id": "40a9f928",
   "metadata": {},
   "outputs": [],
   "source": [
    "url=\"https://www.pewresearch.org/religion/2021/09/21/causes-of-religious-change/\""
   ]
  },
  {
   "cell_type": "code",
   "execution_count": null,
   "id": "9795227c",
   "metadata": {},
   "outputs": [],
   "source": [
    "page=requests.get(url)"
   ]
  },
  {
   "cell_type": "code",
   "execution_count": null,
   "id": "6538fb2c",
   "metadata": {},
   "outputs": [],
   "source": []
  },
  {
   "cell_type": "code",
   "execution_count": null,
   "id": "728d72b7",
   "metadata": {},
   "outputs": [],
   "source": []
  },
  {
   "cell_type": "code",
   "execution_count": null,
   "id": "d014a049",
   "metadata": {},
   "outputs": [],
   "source": []
  },
  {
   "cell_type": "code",
   "execution_count": null,
   "id": "3a078f06",
   "metadata": {},
   "outputs": [],
   "source": []
  },
  {
   "cell_type": "code",
   "execution_count": null,
   "id": "6fb0a316",
   "metadata": {},
   "outputs": [],
   "source": []
  },
  {
   "cell_type": "code",
   "execution_count": null,
   "id": "3daa3ece",
   "metadata": {},
   "outputs": [],
   "source": []
  },
  {
   "cell_type": "code",
   "execution_count": null,
   "id": "723e2e90",
   "metadata": {},
   "outputs": [],
   "source": []
  },
  {
   "cell_type": "code",
   "execution_count": null,
   "id": "2210da37",
   "metadata": {},
   "outputs": [],
   "source": []
  },
  {
   "cell_type": "code",
   "execution_count": null,
   "id": "34d51754",
   "metadata": {},
   "outputs": [],
   "source": []
  },
  {
   "cell_type": "code",
   "execution_count": null,
   "id": "3f5b7e26",
   "metadata": {},
   "outputs": [],
   "source": []
  },
  {
   "cell_type": "code",
   "execution_count": null,
   "id": "7753711a",
   "metadata": {},
   "outputs": [],
   "source": []
  },
  {
   "cell_type": "code",
   "execution_count": null,
   "id": "f2e58845",
   "metadata": {},
   "outputs": [],
   "source": []
  }
 ],
 "metadata": {
  "hide_input": false,
  "kernelspec": {
   "display_name": "Python 3 (ipykernel)",
   "language": "python",
   "name": "python3"
  },
  "language_info": {
   "codemirror_mode": {
    "name": "ipython",
    "version": 3
   },
   "file_extension": ".py",
   "mimetype": "text/x-python",
   "name": "python",
   "nbconvert_exporter": "python",
   "pygments_lexer": "ipython3",
   "version": "3.9.13"
  }
 },
 "nbformat": 4,
 "nbformat_minor": 5
}
